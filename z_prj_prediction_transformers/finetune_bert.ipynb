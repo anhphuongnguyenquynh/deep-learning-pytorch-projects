{
 "cells": [
  {
   "cell_type": "code",
   "execution_count": null,
   "metadata": {},
   "outputs": [],
   "source": [
    "texts = [\"I love this!\", \"This is terrible.\", \"What a great day!\", \"I hate waiting.\", \"Absolutely fantastic!\"]\n",
    "\n",
    "labels = [1, 0, 1, 0, 1]  # 1 for positive sentiment, 0 for negative sentiment"
   ]
  },
  {
   "cell_type": "code",
   "execution_count": null,
   "metadata": {},
   "outputs": [],
   "source": [
    "import torch\n",
    "\n",
    "from transformers import BertTokenizer, BertForSequenceClassification\n",
    "tokenizer = BertTokenizer.from_pretrained('bert-base-uncased')\n",
    "model = BertForSequenceClassification.from_pretrained('bert-base-uncased', num_labels=2)\n",
    "\n",
    "inputs = tokenizer(texts, padding=True, truncation = True, \n",
    "                   return_tensors=\"pt\", max_length=32)"
   ]
  }
 ],
 "metadata": {
  "language_info": {
   "name": "python"
  }
 },
 "nbformat": 4,
 "nbformat_minor": 2
}
