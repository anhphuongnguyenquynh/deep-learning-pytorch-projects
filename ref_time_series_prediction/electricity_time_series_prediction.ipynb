{
 "cells": [
  {
   "cell_type": "code",
   "execution_count": 1,
   "metadata": {},
   "outputs": [],
   "source": [
    "#Import Libraries\n",
    "import numpy as np\n",
    "import pandas as pd\n",
    "import torch\n",
    "import torch.nn as nn\n",
    "import torch.optim as optim\n",
    "import os\n",
    "from torch.utils.data import TensorDataset, DataLoader"
   ]
  },
  {
   "cell_type": "markdown",
   "metadata": {},
   "source": [
    "# Load dataset"
   ]
  },
  {
   "cell_type": "code",
   "execution_count": 2,
   "metadata": {},
   "outputs": [
    {
     "data": {
      "text/html": [
       "<div>\n",
       "<style scoped>\n",
       "    .dataframe tbody tr th:only-of-type {\n",
       "        vertical-align: middle;\n",
       "    }\n",
       "\n",
       "    .dataframe tbody tr th {\n",
       "        vertical-align: top;\n",
       "    }\n",
       "\n",
       "    .dataframe thead th {\n",
       "        text-align: right;\n",
       "    }\n",
       "</style>\n",
       "<table border=\"1\" class=\"dataframe\">\n",
       "  <thead>\n",
       "    <tr style=\"text-align: right;\">\n",
       "      <th></th>\n",
       "      <th>timestamp</th>\n",
       "      <th>consumption</th>\n",
       "    </tr>\n",
       "  </thead>\n",
       "  <tbody>\n",
       "    <tr>\n",
       "      <th>0</th>\n",
       "      <td>2011-01-01 00:15:00</td>\n",
       "      <td>-0.704319</td>\n",
       "    </tr>\n",
       "    <tr>\n",
       "      <th>1</th>\n",
       "      <td>2011-01-01 00:30:00</td>\n",
       "      <td>-0.704319</td>\n",
       "    </tr>\n",
       "    <tr>\n",
       "      <th>2</th>\n",
       "      <td>2011-01-01 00:45:00</td>\n",
       "      <td>-0.678983</td>\n",
       "    </tr>\n",
       "    <tr>\n",
       "      <th>3</th>\n",
       "      <td>2011-01-01 01:00:00</td>\n",
       "      <td>-0.653647</td>\n",
       "    </tr>\n",
       "    <tr>\n",
       "      <th>4</th>\n",
       "      <td>2011-01-01 01:15:00</td>\n",
       "      <td>-0.704319</td>\n",
       "    </tr>\n",
       "  </tbody>\n",
       "</table>\n",
       "</div>"
      ],
      "text/plain": [
       "             timestamp  consumption\n",
       "0  2011-01-01 00:15:00    -0.704319\n",
       "1  2011-01-01 00:30:00    -0.704319\n",
       "2  2011-01-01 00:45:00    -0.678983\n",
       "3  2011-01-01 01:00:00    -0.653647\n",
       "4  2011-01-01 01:15:00    -0.704319"
      ]
     },
     "execution_count": 2,
     "metadata": {},
     "output_type": "execute_result"
    }
   ],
   "source": [
    "# Load preprocessed data\n",
    "train_data = pd.read_csv('data/electricity_consump/electricity_train.csv')\n",
    "test_data = pd.read_csv('data/electricity_consump/electricity_test.csv')\n",
    "\n",
    "# View the first 5 rows of training set\n",
    "train_data.head()"
   ]
  },
  {
   "cell_type": "code",
   "execution_count": 3,
   "metadata": {},
   "outputs": [
    {
     "name": "stdout",
     "output_type": "stream",
     "text": [
      "(105215, 2)\n",
      "(35040, 2)\n"
     ]
    }
   ],
   "source": [
    "print(train_data.shape)\n",
    "print(test_data.shape)"
   ]
  },
  {
   "cell_type": "code",
   "execution_count": 4,
   "metadata": {},
   "outputs": [],
   "source": [
    "def create_sequences(df, seq_length):\n",
    "    xs, ys = [], []\n",
    "    # Iterate over data indices\n",
    "    for i in range(len(df)- seq_length):\n",
    "      \t# Define inputs\n",
    "        x = df.iloc[i:(i+seq_length), 1]\n",
    "        # Define target\n",
    "        y = df.iloc[i+seq_length, 1]\n",
    "        xs.append(x)\n",
    "        ys.append(y)\n",
    "    return np.array(xs), np.array(ys)"
   ]
  },
  {
   "cell_type": "code",
   "execution_count": 36,
   "metadata": {},
   "outputs": [
    {
     "name": "stdout",
     "output_type": "stream",
     "text": [
      "(105119, 96) (105119,)\n",
      "[-0.70431852 -0.70431852 -0.67898263 -0.65364675 -0.70431852 -0.70431852\n",
      " -0.72990776 -0.70431852 -0.70431852 -0.67898263 -0.67898263 -0.62831087\n",
      " -0.67898263 -0.72990776 -0.72990776 -0.72990776 -0.70431852 -0.67898263\n",
      " -0.70431852 -0.75524365 -0.67898263 -0.67898263 -0.67898263 -0.65364675\n",
      " -0.72990776 -0.70431852 -0.67898263 -0.67898263 -0.70431852 -0.72990776\n",
      " -0.70431852 -0.72990776 -0.67898263 -0.70431852 -0.75524365 -0.90725895\n",
      " -1.00885585 -0.95793072 -0.93259484 -0.98326661 -0.98326661 -1.00885585\n",
      " -0.98326661 -1.00885585 -0.98326661 -0.95793072 -0.95793072 -0.95793072\n",
      " -0.95793072 -1.00885585 -0.98326661 -0.95793072 -0.98326661 -0.98326661\n",
      " -1.00885585 -0.95793072 -0.93259484 -1.00885585 -0.98326661 -0.93259484\n",
      " -0.98326661 -1.03419173 -0.98326661 -0.98326661 -0.85658718 -0.67898263\n",
      " -0.72990776 -0.72990776 -0.70431852 -0.70431852 -0.72990776 -0.70431852\n",
      " -0.70431852 -0.67898263 -0.67898263 -0.65364675 -0.67898263 -0.65364675\n",
      " -0.67898263 -0.70431852 -0.70431852 -0.72990776 -0.72990776 -0.67898263\n",
      " -0.65364675 -0.72990776 -0.70431852 -0.72990776 -0.72990776 -0.62831087\n",
      " -0.65364675 -0.70431852 -0.70431852 -0.65364675 -0.72990776 -0.70431852] -0.7043185184993116\n"
     ]
    }
   ],
   "source": [
    "# Use create_sequences to create inputs and targets\n",
    "seq_length=96\n",
    "X_train, y_train = create_sequences(train_data, seq_length)\n",
    "print(X_train.shape, y_train.shape)\n",
    "\n",
    "print(X_train[0], y_train[0])"
   ]
  },
  {
   "cell_type": "code",
   "execution_count": 43,
   "metadata": {},
   "outputs": [
    {
     "name": "stdout",
     "output_type": "stream",
     "text": [
      "torch.Size([105119, 96])\n"
     ]
    }
   ],
   "source": [
    "#convert X_train and y_train to tensors\n",
    "X_train = torch.tensor(X_train).float()\n",
    "print(X_train.shape)"
   ]
  },
  {
   "cell_type": "code",
   "execution_count": 44,
   "metadata": {},
   "outputs": [
    {
     "name": "stdout",
     "output_type": "stream",
     "text": [
      "torch.Size([105119])\n"
     ]
    }
   ],
   "source": [
    "y_train = torch.tensor(y_train).float()\n",
    "print(y_train.shape)"
   ]
  },
  {
   "cell_type": "code",
   "execution_count": 42,
   "metadata": {},
   "outputs": [
    {
     "name": "stdout",
     "output_type": "stream",
     "text": [
      "(105119, 96) (105119,)\n",
      "105119\n"
     ]
    }
   ],
   "source": [
    "# Use create_sequences to create inputs and targets\n",
    "seq_length=96\n",
    "X_train, y_train = create_sequences(train_data, seq_length)\n",
    "print(X_train.shape, y_train.shape)\n",
    "\n",
    "# Create TensorDataset\n",
    "dataset_train = TensorDataset(\n",
    "    torch.from_numpy(X_train).float(),\n",
    "    torch.from_numpy(y_train).float(),\n",
    ")\n",
    "print(len(dataset_train))"
   ]
  },
  {
   "cell_type": "code",
   "execution_count": 17,
   "metadata": {},
   "outputs": [
    {
     "name": "stdout",
     "output_type": "stream",
     "text": [
      "torch.Size([32, 96]) torch.Size([32])\n",
      "torch.Size([32, 96, 1])\n"
     ]
    }
   ],
   "source": [
    "#Create dataloader with training data\n",
    "train_loader = DataLoader(dataset_train, batch_size=32, shuffle=False)\n",
    "for X_batch, y_batch in train_loader:\n",
    "    print(X_batch.shape, y_batch.shape)\n",
    "    X_batch_reshape = X_batch.view(32,96,1)\n",
    "    print(X_batch_reshape.shape)\n",
    "    break"
   ]
  },
  {
   "cell_type": "code",
   "execution_count": 24,
   "metadata": {},
   "outputs": [],
   "source": [
    "#Building a forecasting RNN model\n",
    "class RNN(nn.Module):\n",
    "    def __init__(self):\n",
    "        super().__init__()\n",
    "        # Define RNN layer\n",
    "        self.rnn = nn.RNN(\n",
    "            input_size=1,\n",
    "            hidden_size=32,\n",
    "            num_layers=2,\n",
    "            batch_first=True,\n",
    "        )\n",
    "        self.fc = nn.Linear(32, 1)\n",
    "\n",
    "    def forward(self, x):\n",
    "        # Initialize first hidden state with zeros\n",
    "        h0 = torch.zeros(2, x.size(0), 32)\n",
    "        # Pass x and h0 through recurrent layer\n",
    "        out, _ = self.rnn(x, h0)  \n",
    "        # Pass recurrent layer's last output through linear layer\n",
    "        out = self.fc(out[:, -1, :])\n",
    "        return out"
   ]
  },
  {
   "cell_type": "code",
   "execution_count": 25,
   "metadata": {},
   "outputs": [
    {
     "name": "stdout",
     "output_type": "stream",
     "text": [
      "RNN(\n",
      "  (rnn): RNN(1, 32, num_layers=2, batch_first=True)\n",
      "  (fc): Linear(in_features=32, out_features=1, bias=True)\n",
      ")\n"
     ]
    }
   ],
   "source": [
    "print(RNN())"
   ]
  },
  {
   "cell_type": "code",
   "execution_count": 9,
   "metadata": {},
   "outputs": [],
   "source": [
    "#Building LSTM model\n",
    "class LSTM(nn.Module):\n",
    "    def __init__(self, input_size):\n",
    "        super().__init__()\n",
    "        # Define lstm layer\n",
    "        self.lstm = nn.LSTM(\n",
    "            input_size=1,\n",
    "            hidden_size=32,\n",
    "            num_layers=2,\n",
    "            batch_first=True,\n",
    "        )\n",
    "        self.fc = nn.Linear(32, 1)\n",
    "\n",
    "    def forward(self, x):\n",
    "        h0 = torch.zeros(2, x.size(0), 32)\n",
    "        # Initialize long-term memory\n",
    "        c0 = torch.zeros(2, x.size(0), 32)\n",
    "        # Pass all inputs to lstm layer\n",
    "        out, _ = self.lstm(x, (h0, c0))\n",
    "        out = self.fc(out[:, -1, :])\n",
    "        return out"
   ]
  },
  {
   "cell_type": "code",
   "execution_count": 11,
   "metadata": {},
   "outputs": [
    {
     "name": "stdout",
     "output_type": "stream",
     "text": [
      "LSTM(\n",
      "  (lstm): LSTM(1, 32, num_layers=2, batch_first=True)\n",
      "  (fc): Linear(in_features=32, out_features=1, bias=True)\n",
      ")\n"
     ]
    }
   ],
   "source": [
    "print(LSTM(input_size = 96))"
   ]
  },
  {
   "cell_type": "code",
   "execution_count": 12,
   "metadata": {},
   "outputs": [],
   "source": [
    "#Building GRU model\n",
    "class GRU(nn.Module):\n",
    "    def __init__(self):\n",
    "        super().__init__()\n",
    "        # Define RNN layer\n",
    "        self.gru = nn.GRU(\n",
    "            input_size=1,\n",
    "            hidden_size=32,\n",
    "            num_layers=2,\n",
    "            batch_first=True,\n",
    "        )\n",
    "        self.fc = nn.Linear(32, 1)\n",
    "\n",
    "    def forward(self, x):\n",
    "        h0 = torch.zeros(2, x.size(0), 32)\n",
    "        out, _ = self.gru(x, h0)  \n",
    "        out = self.fc(out[:, -1, :])\n",
    "        return out"
   ]
  },
  {
   "cell_type": "code",
   "execution_count": 13,
   "metadata": {},
   "outputs": [
    {
     "name": "stdout",
     "output_type": "stream",
     "text": [
      "GRU(\n",
      "  (gru): GRU(1, 32, num_layers=2, batch_first=True)\n",
      "  (fc): Linear(in_features=32, out_features=1, bias=True)\n",
      ")\n"
     ]
    }
   ],
   "source": [
    "print(GRU())"
   ]
  },
  {
   "cell_type": "code",
   "execution_count": 31,
   "metadata": {},
   "outputs": [
    {
     "name": "stdout",
     "output_type": "stream",
     "text": [
      "torch.Size([32, 1])\n"
     ]
    }
   ],
   "source": [
    "#Test model\n",
    "test_model = RNN()\n",
    "criterion = nn.MSELoss()\n",
    "optimizer = optim.Adam(test_model.parameters(), lr=0.001)\n",
    "\n",
    "#X_test, y_test\n",
    "X_test = torch.rand(32, 96)\n",
    "X_test_reshape = X_test.view(32,96,1)\n",
    "y_test = torch.rand(32, 1)\n",
    "\n",
    "y_pred = test_model(X_test_reshape)\n",
    "print(y_pred.shape)"
   ]
  },
  {
   "cell_type": "code",
   "execution_count": 30,
   "metadata": {},
   "outputs": [],
   "source": [
    "loss = criterion(y_pred, y_test)"
   ]
  },
  {
   "cell_type": "markdown",
   "metadata": {},
   "source": [
    "# Training loop"
   ]
  },
  {
   "cell_type": "code",
   "execution_count": 45,
   "metadata": {},
   "outputs": [
    {
     "name": "stdout",
     "output_type": "stream",
     "text": [
      "Epoch 1, Loss: 0.032437700778245926\n",
      "Epoch 2, Loss: 0.025201592594385147\n",
      "Epoch 3, Loss: 0.023907987400889397\n",
      "Epoch 4, Loss: 0.02443244308233261\n",
      "Epoch 5, Loss: 0.026569977402687073\n"
     ]
    }
   ],
   "source": [
    "net = RNN()\n",
    "# Set up MSE loss\n",
    "criterion = nn.MSELoss()\n",
    "optimizer = optim.Adam(\n",
    "  net.parameters(), lr=0.0001\n",
    ")\n",
    "\n",
    "for epoch in range(5):\n",
    "    for seqs, labels in train_loader:\n",
    "        # Reshape model inputs\n",
    "        seqs = seqs.view(seqs.size(0), seqs.size(1), 1)\n",
    "        # Get model outputs\n",
    "        outputs = net(seqs)\n",
    "        # Compute loss\n",
    "        labels = labels.view(-1,1)\n",
    "        loss = criterion(outputs,labels)\n",
    "        optimizer.zero_grad()\n",
    "        loss.backward()\n",
    "        optimizer.step()\n",
    "    print(f\"Epoch {epoch+1}, Loss: {loss.item()}\")"
   ]
  },
  {
   "cell_type": "markdown",
   "metadata": {},
   "source": [
    "# Evaluating forecasting models"
   ]
  },
  {
   "cell_type": "code",
   "execution_count": 46,
   "metadata": {},
   "outputs": [
    {
     "name": "stdout",
     "output_type": "stream",
     "text": [
      "(34944, 96) (34944,)\n",
      "34944\n"
     ]
    }
   ],
   "source": [
    "# Use create_sequences to create inputs and targets\n",
    "seq_length=96\n",
    "X_test, y_test = create_sequences(test_data, seq_length)\n",
    "print(X_test.shape, y_test.shape)\n",
    "\n",
    "# Create TensorDataset\n",
    "dataset_test = TensorDataset(\n",
    "    torch.from_numpy(X_test).float(),\n",
    "    torch.from_numpy(y_test).float(),\n",
    ")\n",
    "print(len(dataset_test))"
   ]
  },
  {
   "cell_type": "code",
   "execution_count": 51,
   "metadata": {},
   "outputs": [],
   "source": [
    "#Create dataloader with training data\n",
    "test_loader = DataLoader(dataset_test, batch_size=32, shuffle=False)"
   ]
  },
  {
   "cell_type": "code",
   "execution_count": 49,
   "metadata": {},
   "outputs": [],
   "source": [
    "import torchmetrics"
   ]
  },
  {
   "cell_type": "code",
   "execution_count": 52,
   "metadata": {},
   "outputs": [
    {
     "name": "stdout",
     "output_type": "stream",
     "text": [
      "Test MSE: 0.040719348937273026\n"
     ]
    }
   ],
   "source": [
    "from torchmetrics import MeanSquaredError\n",
    "# Define MSE metric\n",
    "mse = torchmetrics.MeanSquaredError()\n",
    "\n",
    "net.eval()\n",
    "with torch.no_grad():\n",
    "    for seqs, labels in test_loader:\n",
    "        seqs = seqs.view(seqs.size(0), seqs.size(1), 1)\n",
    "        labels = labels.view(-1, 1)   # đảm bảo (batch, 1)\n",
    "        outputs = net(seqs)           # (batch, 1)\n",
    "        mse.update(outputs, labels)\n",
    "\n",
    "# Compute final metric value\n",
    "test_mse = mse.compute()\n",
    "print(f\"Test MSE: {test_mse}\")\n"
   ]
  },
  {
   "cell_type": "code",
   "execution_count": 54,
   "metadata": {},
   "outputs": [
    {
     "name": "stdout",
     "output_type": "stream",
     "text": [
      "Test MSE: 0.20179036259651184\n"
     ]
    }
   ],
   "source": [
    "from torchmetrics import MeanSquaredError\n",
    "# Define MSE metric\n",
    "rmse = torchmetrics.MeanSquaredError(squared=False)\n",
    "\n",
    "net.eval()\n",
    "with torch.no_grad():\n",
    "    for seqs, labels in test_loader:\n",
    "        seqs = seqs.view(seqs.size(0), seqs.size(1), 1)\n",
    "        labels = labels.view(-1, 1)   # đảm bảo (batch, 1)\n",
    "        outputs = net(seqs)           # (batch, 1)\n",
    "        rmse.update(outputs, labels)\n",
    "\n",
    "# Compute final metric value\n",
    "test_rmse = rmse.compute()\n",
    "print(f\"Test MSE: {test_rmse}\")\n"
   ]
  },
  {
   "cell_type": "code",
   "execution_count": 56,
   "metadata": {},
   "outputs": [
    {
     "name": "stdout",
     "output_type": "stream",
     "text": [
      "Std of target: 0.8046\n",
      "Mean of target: 0.0252\n"
     ]
    }
   ],
   "source": [
    "import torch\n",
    "\n",
    "all_labels = torch.cat([labels for _, labels in test_loader])\n",
    "std_y = torch.std(all_labels)\n",
    "mean_y = torch.mean(all_labels)\n",
    "\n",
    "print(f\"Std of target: {std_y:.4f}\")\n",
    "print(f\"Mean of target: {mean_y:.4f}\")\n"
   ]
  },
  {
   "cell_type": "markdown",
   "metadata": {},
   "source": [
    "RMSE = 0.2 > Std of target => Good result"
   ]
  }
 ],
 "metadata": {
  "kernelspec": {
   "display_name": "Python 3",
   "language": "python",
   "name": "python3"
  },
  "language_info": {
   "codemirror_mode": {
    "name": "ipython",
    "version": 3
   },
   "file_extension": ".py",
   "mimetype": "text/x-python",
   "name": "python",
   "nbconvert_exporter": "python",
   "pygments_lexer": "ipython3",
   "version": "3.9.6"
  }
 },
 "nbformat": 4,
 "nbformat_minor": 2
}
